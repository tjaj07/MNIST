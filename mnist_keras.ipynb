{
 "cells": [
  {
   "cell_type": "code",
   "execution_count": 116,
   "metadata": {},
   "outputs": [],
   "source": [
    "import numpy as np\n",
    "import pandas as pd\n",
    "import matplotlib.pyplot as plt\n",
    "%matplotlib inline"
   ]
  },
  {
   "cell_type": "code",
   "execution_count": 117,
   "metadata": {},
   "outputs": [
    {
     "name": "stdout",
     "output_type": "stream",
     "text": [
      "The MNIST database has a training set of 60000 examples.\n",
      "The MNIST database has a test set of 10000 examples.\n"
     ]
    }
   ],
   "source": [
    "from keras.datasets import mnist\n",
    "\n",
    "# use Keras to import pre-shuffled MNIST database\n",
    "(X_train, y_train), (X_test, y_test) = mnist.load_data()\n",
    "\n",
    "print(\"The MNIST database has a training set of %d examples.\" % len(X_train))\n",
    "print(\"The MNIST database has a test set of %d examples.\" % len(X_test))"
   ]
  },
  {
   "cell_type": "code",
   "execution_count": 118,
   "metadata": {},
   "outputs": [
    {
     "data": {
      "text/plain": [
       "<matplotlib.image.AxesImage at 0x7fc4fadac160>"
      ]
     },
     "execution_count": 118,
     "metadata": {},
     "output_type": "execute_result"
    },
    {
     "data": {
      "image/png": "[encoded data removed]",
      "text/plain": [
       "<Figure size 432x288 with 6 Axes>"
      ]
     },
     "metadata": {
      "needs_background": "light"
     },
     "output_type": "display_data"
    }
   ],
   "source": [
    "plt.subplot(2,3,1)\n",
    "plt.imshow(X_train[0],cmap = \"gray\")\n",
    "\n",
    "plt.subplot(2,3,2)\n",
    "plt.imshow(X_train[120],cmap = \"gray\")\n",
    "\n",
    "plt.subplot(2,3,3)\n",
    "plt.imshow(X_train[1300],cmap = \"gray\")\n",
    "\n",
    "plt.subplot(2,3,4)\n",
    "plt.imshow(X_train[3049],cmap = \"gray\")\n",
    "\n",
    "plt.subplot(2,3,5)\n",
    "plt.imshow(X_train[3644],cmap = \"gray\")\n",
    "\n",
    "plt.subplot(2,3,6)\n",
    "plt.imshow(X_train[5149],cmap = \"gray\")"
   ]
  },
  {
   "cell_type": "code",
   "execution_count": 119,
   "metadata": {},
   "outputs": [],
   "source": [
    "# rescale [0,255] --> [0,1]\n",
    "X_train = X_train.astype('float32')/255\n",
    "X_test = X_test.astype('float32')/255"
   ]
  },
  {
   "cell_type": "code",
   "execution_count": 120,
   "metadata": {},
   "outputs": [
    {
     "name": "stdout",
     "output_type": "stream",
     "text": [
      "Integer-valued labels:\n",
      "[5 0 4 1 9 2 1 3 1 4]\n",
      "One-hot labels:\n",
      "[[0. 0. 0. 0. 0. 1. 0. 0. 0. 0.]\n",
      " [1. 0. 0. 0. 0. 0. 0. 0. 0. 0.]\n",
      " [0. 0. 0. 0. 1. 0. 0. 0. 0. 0.]\n",
      " [0. 1. 0. 0. 0. 0. 0. 0. 0. 0.]\n",
      " [0. 0. 0. 0. 0. 0. 0. 0. 0. 1.]\n",
      " [0. 0. 1. 0. 0. 0. 0. 0. 0. 0.]\n",
      " [0. 1. 0. 0. 0. 0. 0. 0. 0. 0.]\n",
      " [0. 0. 0. 1. 0. 0. 0. 0. 0. 0.]\n",
      " [0. 1. 0. 0. 0. 0. 0. 0. 0. 0.]\n",
      " [0. 0. 0. 0. 1. 0. 0. 0. 0. 0.]]\n"
     ]
    }
   ],
   "source": [
    "from keras.utils import np_utils\n",
    "\n",
    "# print first ten (integer-valued) training labels\n",
    "print('Integer-valued labels:')\n",
    "print(y_train[:10])\n",
    "\n",
    "# one-hot encode the labels\n",
    "y_train = np_utils.to_categorical(y_train, 10)\n",
    "y_test = np_utils.to_categorical(y_test, 10)\n",
    "\n",
    "# print first ten (one-hot) training labels\n",
    "print('One-hot labels:')\n",
    "print(y_train[:10])"
   ]
  },
  {
   "cell_type": "code",
   "execution_count": 121,
   "metadata": {},
   "outputs": [
    {
     "data": {
      "text/plain": [
       "(60000, 28, 28)"
      ]
     },
     "execution_count": 121,
     "metadata": {},
     "output_type": "execute_result"
    }
   ],
   "source": [
    "X_train.shape"
   ]
  },
  {
   "cell_type": "code",
   "execution_count": 122,
   "metadata": {},
   "outputs": [
    {
     "name": "stdout",
     "output_type": "stream",
     "text": [
      "_________________________________________________________________\n",
      "Layer (type)                 Output Shape              Param #   \n",
      "=================================================================\n",
      "flatten_17 (Flatten)         (None, 784)               0         \n",
      "_________________________________________________________________\n",
      "dense_22 (Dense)             (None, 512)               401920    \n",
      "_________________________________________________________________\n",
      "dropout_9 (Dropout)          (None, 512)               0         \n",
      "_________________________________________________________________\n",
      "dense_23 (Dense)             (None, 128)               65664     \n",
      "_________________________________________________________________\n",
      "dropout_10 (Dropout)         (None, 128)               0         \n",
      "_________________________________________________________________\n",
      "dense_24 (Dense)             (None, 10)                1290      \n",
      "=================================================================\n",
      "Total params: 468,874\n",
      "Trainable params: 468,874\n",
      "Non-trainable params: 0\n",
      "_________________________________________________________________\n"
     ]
    },
    {
     "name": "stderr",
     "output_type": "stream",
     "text": [
      "/home/tushar/anaconda3/lib/python3.6/site-packages/ipykernel_launcher.py:7: UserWarning: Update your `Dropout` call to the Keras 2 API: `Dropout(rate=0.3)`\n",
      "  import sys\n",
      "/home/tushar/anaconda3/lib/python3.6/site-packages/ipykernel_launcher.py:9: UserWarning: Update your `Dropout` call to the Keras 2 API: `Dropout(rate=0.2)`\n",
      "  if __name__ == '__main__':\n"
     ]
    }
   ],
   "source": [
    "from keras.models import Sequential\n",
    "from keras.layers import Dense,Dropout,Flatten\n",
    "\n",
    "classifier = Sequential() \n",
    "classifier.add(Flatten(input_shape = (28,28)))\n",
    "classifier.add(Dense(512, activation='relu'))\n",
    "classifier.add(Dropout(p = 0.3))\n",
    "classifier.add(Dense(128,activation = \"relu\"))\n",
    "classifier.add(Dropout(p = 0.2))\n",
    "classifier.add(Dense(10,activation = \"softmax\"))\n",
    "\n",
    "classifier.summary()"
   ]
  },
  {
   "cell_type": "code",
   "execution_count": 123,
   "metadata": {},
   "outputs": [],
   "source": [
    "classifier.compile(loss=\"categorical_crossentropy\", optimizer=\"adam\", metrics = [\"accuracy\"])"
   ]
  },
  {
   "cell_type": "code",
   "execution_count": 124,
   "metadata": {},
   "outputs": [
    {
     "name": "stdout",
     "output_type": "stream",
     "text": [
      "Train on 48000 samples, validate on 12000 samples\n",
      "Epoch 1/50\n",
      "48000/48000 [==============================] - 16s 343us/step - loss: 0.2723 - acc: 0.9158 - val_loss: 0.1226 - val_acc: 0.9631\n",
      "Epoch 2/50\n",
      "48000/48000 [==============================] - 17s 360us/step - loss: 0.1323 - acc: 0.9596 - val_loss: 0.1054 - val_acc: 0.9687\n",
      "Epoch 3/50\n",
      "48000/48000 [==============================] - 17s 353us/step - loss: 0.1016 - acc: 0.9685 - val_loss: 0.0887 - val_acc: 0.9742\n",
      "Epoch 4/50\n",
      "48000/48000 [==============================] - 17s 356us/step - loss: 0.0846 - acc: 0.9735 - val_loss: 0.0922 - val_acc: 0.9737\n",
      "Epoch 5/50\n",
      "48000/48000 [==============================] - 17s 354us/step - loss: 0.0707 - acc: 0.9777 - val_loss: 0.0887 - val_acc: 0.9727\n",
      "Epoch 6/50\n",
      "48000/48000 [==============================] - 17s 350us/step - loss: 0.0637 - acc: 0.9804 - val_loss: 0.0994 - val_acc: 0.9723\n",
      "Epoch 7/50\n",
      "48000/48000 [==============================] - 17s 361us/step - loss: 0.0572 - acc: 0.9817 - val_loss: 0.0964 - val_acc: 0.9748\n",
      "Epoch 8/50\n",
      "48000/48000 [==============================] - 17s 352us/step - loss: 0.0529 - acc: 0.9833 - val_loss: 0.0874 - val_acc: 0.9767\n",
      "Epoch 9/50\n",
      "48000/48000 [==============================] - 17s 353us/step - loss: 0.0508 - acc: 0.9841 - val_loss: 0.0873 - val_acc: 0.9768\n",
      "Epoch 10/50\n",
      "48000/48000 [==============================] - 17s 357us/step - loss: 0.0444 - acc: 0.9863 - val_loss: 0.0820 - val_acc: 0.9789\n",
      "Epoch 11/50\n",
      "48000/48000 [==============================] - 17s 357us/step - loss: 0.0405 - acc: 0.9866 - val_loss: 0.0861 - val_acc: 0.9797\n",
      "Epoch 12/50\n",
      "48000/48000 [==============================] - 18s 370us/step - loss: 0.0379 - acc: 0.9882 - val_loss: 0.0852 - val_acc: 0.9796\n",
      "Epoch 13/50\n",
      "48000/48000 [==============================] - 19s 386us/step - loss: 0.0354 - acc: 0.9889 - val_loss: 0.0943 - val_acc: 0.9791\n",
      "Epoch 14/50\n",
      "48000/48000 [==============================] - 18s 372us/step - loss: 0.0380 - acc: 0.9873 - val_loss: 0.0844 - val_acc: 0.9801\n",
      "Epoch 15/50\n",
      "48000/48000 [==============================] - 17s 362us/step - loss: 0.0320 - acc: 0.9898 - val_loss: 0.0937 - val_acc: 0.9800\n"
     ]
    },
    {
     "data": {
      "text/plain": [
       "<keras.callbacks.History at 0x7fc4fb36e208>"
      ]
     },
     "execution_count": 124,
     "metadata": {},
     "output_type": "execute_result"
    }
   ],
   "source": [
    "from keras.callbacks import ModelCheckpoint,EarlyStopping   \n",
    "\n",
    "checkpointer = ModelCheckpoint(filepath='mnist_weights.hdf5', save_best_only=True)\n",
    "earlystopper = EarlyStopping(patience=5)\n",
    "\n",
    "# train the model\n",
    "classifier.fit(X_train, y_train, validation_split=0.2, epochs=50, batch_size=32, callbacks=[checkpointer,earlystopper])"
   ]
  },
  {
   "cell_type": "code",
   "execution_count": 125,
   "metadata": {},
   "outputs": [
    {
     "name": "stdout",
     "output_type": "stream",
     "text": [
      "10000/10000 [==============================] - 1s 104us/step\n",
      "Test accuracy: 98.17%\n"
     ]
    }
   ],
   "source": [
    "# load the weights that yielded the best validation accuracy\n",
    "classifier.load_weights('mnist_weights.hdf5')\n",
    "\n",
    "# evaluate test accuracy\n",
    "score = classifier.evaluate(X_test, y_test)\n",
    "accuracy = 100*score[1]\n",
    "\n",
    "# print test accuracy\n",
    "print('Test accuracy: %.2f%%' % accuracy)"
   ]
  },
  {
   "cell_type": "markdown",
   "metadata": {},
   "source": [
    "# Thank You"
   ]
  }
 ],
 "metadata": {
  "kernelspec": {
   "display_name": "Python 3",
   "language": "python",
   "name": "python3"
  },
  "language_info": {
   "codemirror_mode": {
    "name": "ipython",
    "version": 3
   },
   "file_extension": ".py",
   "mimetype": "text/x-python",
   "name": "python",
   "nbconvert_exporter": "python",
   "pygments_lexer": "ipython3",
   "version": "3.6.8"
  }
 },
 "nbformat": 4,
 "nbformat_minor": 2
}
